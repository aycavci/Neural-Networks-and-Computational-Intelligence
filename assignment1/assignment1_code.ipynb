{
 "cells": [
  {
   "cell_type": "code",
   "execution_count": 12,
   "metadata": {},
   "outputs": [],
   "source": [
    "import numpy as np\n",
    "import matplotlib.pyplot as plt\n",
    "from math import comb"
   ]
  },
  {
   "cell_type": "code",
   "execution_count": 29,
   "metadata": {},
   "outputs": [
    {
     "name": "stdout",
     "output_type": "stream",
     "text": [
      "[-1 -1  1  1 -1]\n"
     ]
    },
    {
     "data": {
      "text/plain": [
       "(array([[-1.1582642 , -0.25470769,  0.44823899],\n",
       "        [-1.73602692, -0.40919647, -0.73752124],\n",
       "        [-0.49801767, -0.80275946,  0.95177867],\n",
       "        [-1.75166546, -0.74033323,  0.50065247],\n",
       "        [ 0.55037869,  0.17421984,  0.4267489 ]]),\n",
       " array([-1, -1,  1,  1, -1]))"
      ]
     },
     "execution_count": 29,
     "metadata": {},
     "output_type": "execute_result"
    }
   ],
   "source": [
    "# Generation of independet vectors with mean 0 and variance 1 and independent random labels +1 and -1 \n",
    "# with equal probability 0.5\n",
    "# Returns feature vectors and their labels\n",
    "\n",
    "def generate_data (P, N):\n",
    "    vectors = np.transpose([np.random.standard_normal(P) for _ in range(N)])\n",
    "    labels = np.random.choice([-1, 1], P)\n",
    "    #print(labels)\n",
    "    return vectors, labels\n",
    "#generate_data(5, 3)"
   ]
  },
  {
   "cell_type": "code",
   "execution_count": 31,
   "metadata": {},
   "outputs": [],
   "source": [
    "# Implementation of Rosenblatt perceptron algorithm\n",
    "# Returns true if the weight vector is never changed, otherwise returns false\n",
    "\n",
    "def training(P, N, n_max):\n",
    "    weight_vector = np.zeros(N)\n",
    "    vectors, labels = generate_data(P, N)\n",
    "    epoch = 1\n",
    "\n",
    "    while epoch <= n_max:\n",
    "        weight_changed = False\n",
    "        \n",
    "        for i in range(0, P):\n",
    "            data_point = vectors[i]\n",
    "            label = labels[i]\n",
    "            ev_t = np.dot(weight_vector, data_point) * label\n",
    "            if ev_t <= 0:\n",
    "                weight_changed = True\n",
    "                weight_vector = weight_vector + (1/N * data_point * label)\n",
    "\n",
    "        if not weight_changed:\n",
    "            return True\n",
    "\n",
    "        epoch += 1\n",
    "\n",
    "    return False"
   ]
  },
  {
   "cell_type": "code",
   "execution_count": 19,
   "metadata": {},
   "outputs": [],
   "source": [
    "# Repeat the Rosenblatt perceptron algorithm for given values a, N, n_D and n_max\n",
    "# If traning function returns true, success count increases by 1\n",
    "# Returns the success fraction dividing the count by n_D (n_D represents the number of randomly generated dataset)\n",
    "\n",
    "def repeat(a, N=20, n_D=50, n_max=100):\n",
    "    P = int(a * N)\n",
    "    print (\"Repeating the training for N={} P={} a={}\".format(N, P, a))\n",
    "    count = 0\n",
    "    \n",
    "    for i in range(0, n_D):\n",
    "        if training(P, N, n_max):\n",
    "            count += 1\n",
    "\n",
    "    fraction = count / n_D\n",
    "    print(\"Computed success fraction:\", fraction)\n",
    "    return fraction"
   ]
  },
  {
   "cell_type": "code",
   "execution_count": 20,
   "metadata": {},
   "outputs": [
    {
     "name": "stdout",
     "output_type": "stream",
     "text": [
      "Repeating the training for N=20 P=15 a=0.75\n",
      "Computed success fraction: 1.0\n",
      "Repeating the training for N=20 P=20 a=1.0\n",
      "Computed success fraction: 1.0\n",
      "Repeating the training for N=20 P=25 a=1.25\n",
      "Computed success fraction: 0.96\n",
      "Repeating the training for N=20 P=30 a=1.5\n",
      "Computed success fraction: 0.86\n",
      "Repeating the training for N=20 P=35 a=1.75\n",
      "Computed success fraction: 0.5\n",
      "Repeating the training for N=20 P=40 a=2.0\n",
      "Computed success fraction: 0.26\n",
      "Repeating the training for N=20 P=45 a=2.25\n",
      "Computed success fraction: 0.1\n",
      "Repeating the training for N=20 P=50 a=2.5\n",
      "Computed success fraction: 0.0\n",
      "Repeating the training for N=20 P=55 a=2.75\n",
      "Computed success fraction: 0.0\n",
      "Repeating the training for N=20 P=60 a=3.0\n",
      "Computed success fraction: 0.0\n"
     ]
    },
    {
     "data": {
      "image/png": "[encoded data removed]",
      "text/plain": [
       "<Figure size 432x288 with 1 Axes>"
      ]
     },
     "metadata": {
      "needs_background": "light"
     },
     "output_type": "display_data"
    }
   ],
   "source": [
    "# Calls repeat function for different a values \n",
    "# Plot the fraction vs. a values graph\n",
    "\n",
    "a_values = [a for a in np.arange(0.75, 3.25, 0.25)]\n",
    "fractions = [repeat(a) for a in a_values]\n",
    "\n",
    "plt.plot(a_values, fractions)\n",
    "plt.xlabel(r'$\\alpha = P/N$')\n",
    "plt.ylabel(r'$Q_{l.s.}$')\n",
    "plt.title(\"Fractions of linearly separable dichotomies\")\n",
    "plt.show()"
   ]
  },
  {
   "cell_type": "code",
   "execution_count": 27,
   "metadata": {},
   "outputs": [],
   "source": [
    "# Repeat the Rosenblatt perceptron algorithm for given values a, N, n_D and n_max\n",
    "# If traning function returns true, success count increases by 1\n",
    "# Returns the success fraction dividing the count by n_D (n_D represents the number of randomly generated dataset)\n",
    "\n",
    "def p_ls(a, N=20, n_D=50, n_max=100):\n",
    "    P = int(a * N)\n",
    "    prob = 0\n",
    "    #prob_array = []\n",
    "    \n",
    "    for i in range(0, n_D):\n",
    "        if P <= N:\n",
    "            prob += 1\n",
    "            #prob_array.append(prob)\n",
    "        else:\n",
    "            prob += 2**(1-P)*sum(comb(P-1, i) for i in range(0, N))\n",
    "            #prob_array.append(prob)\n",
    "    fraction = prob / n_D\n",
    "    print(\"Computed success fraction:\", fraction)\n",
    "    return fraction"
   ]
  },
  {
   "cell_type": "code",
   "execution_count": 28,
   "metadata": {},
   "outputs": [
    {
     "name": "stdout",
     "output_type": "stream",
     "text": [
      "Computed success fraction: 1.0\n",
      "Computed success fraction: 1.0\n",
      "Computed success fraction: 0.9992280602455139\n",
      "Computed success fraction: 0.9692858271300793\n",
      "Computed success fraction: 0.804235847434029\n",
      "Computed success fraction: 0.5\n",
      "Computed success fraction: 0.22569041619806285\n",
      "Computed success fraction: 0.07620388598073902\n",
      "Computed success fraction: 0.02011178204785835\n",
      "Computed success fraction: 0.004320749841640873\n"
     ]
    },
    {
     "data": {
      "image/png": "[encoded data removed]",
      "text/plain": [
       "<Figure size 432x288 with 1 Axes>"
      ]
     },
     "metadata": {
      "needs_background": "light"
     },
     "output_type": "display_data"
    }
   ],
   "source": [
    "# Calls repeat function for different a values \n",
    "# Plot the fraction vs. a values graph\n",
    "\n",
    "a_values = [a for a in np.arange(0.75, 3.25, 0.25)]\n",
    "fractions = [p_ls(a) for a in a_values]\n",
    "\n",
    "plt.plot(a_values, fractions)\n",
    "plt.xlabel(r'$\\alpha = P/N$')\n",
    "plt.ylabel(r'$P_{l.s.}$')\n",
    "plt.title(\"Fractions of linearly separable dichotomies\")\n",
    "plt.show()"
   ]
  },
  {
   "cell_type": "code",
   "execution_count": 6,
   "metadata": {},
   "outputs": [],
   "source": [
    "def repeat(a, N=50, n_D=50, n_max=100):\n",
    "    P = int(a * N)\n",
    "    print (\"Repeating the training for N={} P={} a={}\".format(N, P, a))\n",
    "    count = 0\n",
    "    \n",
    "    for i in range(0, n_D):\n",
    "        if training(P, N, n_max):\n",
    "            count += 1\n",
    "\n",
    "    fraction = count / n_D\n",
    "    print(\"Computed success fraction:\", fraction)\n",
    "    return fraction"
   ]
  },
  {
   "cell_type": "code",
   "execution_count": 7,
   "metadata": {},
   "outputs": [
    {
     "name": "stdout",
     "output_type": "stream",
     "text": [
      "Repeating the training for N=50 P=75 a=1.5\n",
      "Computed success fraction: 0.96\n",
      "Repeating the training for N=50 P=80 a=1.6\n",
      "Computed success fraction: 0.74\n",
      "Repeating the training for N=50 P=85 a=1.7000000000000002\n",
      "Computed success fraction: 0.48\n",
      "Repeating the training for N=50 P=90 a=1.8000000000000003\n",
      "Computed success fraction: 0.3\n",
      "Repeating the training for N=50 P=95 a=1.9000000000000004\n",
      "Computed success fraction: 0.04\n",
      "Repeating the training for N=50 P=100 a=2.0000000000000004\n",
      "Computed success fraction: 0.0\n",
      "Repeating the training for N=50 P=105 a=2.1000000000000005\n",
      "Computed success fraction: 0.02\n",
      "Repeating the training for N=50 P=110 a=2.2000000000000006\n",
      "Computed success fraction: 0.02\n",
      "Repeating the training for N=50 P=115 a=2.3000000000000007\n",
      "Computed success fraction: 0.0\n",
      "Repeating the training for N=50 P=120 a=2.400000000000001\n",
      "Computed success fraction: 0.0\n",
      "Repeating the training for N=50 P=125 a=2.500000000000001\n",
      "Computed success fraction: 0.0\n"
     ]
    },
    {
     "data": {
      "image/png": "[encoded data removed]",
      "text/plain": [
       "<Figure size 432x288 with 1 Axes>"
      ]
     },
     "metadata": {
      "needs_background": "light"
     },
     "output_type": "display_data"
    }
   ],
   "source": [
    "a_values = [a for a in np.arange(1.5, 2.6, 0.1)]\n",
    "fractions = [repeat(a) for a in a_values]\n",
    "\n",
    "plt.plot(a_values, fractions)\n",
    "plt.xlabel(r'$\\alpha = P/N$')\n",
    "plt.ylabel(r'$Q_{l.s.}$')\n",
    "plt.title(\"Fractions of linearly separable dichotomies\")\n",
    "plt.show()"
   ]
  },
  {
   "cell_type": "code",
   "execution_count": 8,
   "metadata": {},
   "outputs": [],
   "source": [
    "def repeat(a, N=100, n_D=50, n_max=100):\n",
    "    P = int(a * N)\n",
    "    print (\"Repeating the training for N={} P={} a={}\".format(N, P, a))\n",
    "    count = 0\n",
    "    \n",
    "    for i in range(0, n_D):\n",
    "        if training(P, N, n_max):\n",
    "            count += 1\n",
    "\n",
    "    fraction = count / n_D\n",
    "    print(\"Computed success fraction:\", fraction)\n",
    "    return fraction"
   ]
  },
  {
   "cell_type": "code",
   "execution_count": 9,
   "metadata": {},
   "outputs": [
    {
     "name": "stdout",
     "output_type": "stream",
     "text": [
      "Repeating the training for N=100 P=150 a=1.5\n",
      "Computed success fraction: 0.96\n",
      "Repeating the training for N=100 P=160 a=1.6\n",
      "Computed success fraction: 0.6\n",
      "Repeating the training for N=100 P=170 a=1.7000000000000002\n",
      "Computed success fraction: 0.28\n",
      "Repeating the training for N=100 P=180 a=1.8000000000000003\n",
      "Computed success fraction: 0.2\n",
      "Repeating the training for N=100 P=190 a=1.9000000000000004\n",
      "Computed success fraction: 0.06\n",
      "Repeating the training for N=100 P=200 a=2.0000000000000004\n",
      "Computed success fraction: 0.0\n",
      "Repeating the training for N=100 P=210 a=2.1000000000000005\n",
      "Computed success fraction: 0.0\n",
      "Repeating the training for N=100 P=220 a=2.2000000000000006\n",
      "Computed success fraction: 0.0\n",
      "Repeating the training for N=100 P=230 a=2.3000000000000007\n",
      "Computed success fraction: 0.0\n",
      "Repeating the training for N=100 P=240 a=2.400000000000001\n",
      "Computed success fraction: 0.0\n",
      "Repeating the training for N=100 P=250 a=2.500000000000001\n",
      "Computed success fraction: 0.0\n"
     ]
    },
    {
     "data": {
      "image/png": "[encoded data removed]",
      "text/plain": [
       "<Figure size 432x288 with 1 Axes>"
      ]
     },
     "metadata": {
      "needs_background": "light"
     },
     "output_type": "display_data"
    }
   ],
   "source": [
    "a_values = [a for a in np.arange(1.5, 2.6, 0.1)]\n",
    "fractions = [repeat(a) for a in a_values]\n",
    "\n",
    "plt.plot(a_values, fractions)\n",
    "plt.xlabel(r'$\\alpha = P/N$')\n",
    "plt.ylabel(r'$Q_{l.s.}$')\n",
    "plt.title(\"Fractions of linearly separable dichotomies\")\n",
    "plt.show()"
   ]
  },
  {
   "cell_type": "code",
   "execution_count": 10,
   "metadata": {},
   "outputs": [],
   "source": [
    "def repeat(a, N=300, n_D=50, n_max=100):\n",
    "    P = int(a * N)\n",
    "    print (\"Repeating the training for N={} P={} a={}\".format(N, P, a))\n",
    "    count = 0\n",
    "    \n",
    "    for i in range(0, n_D):\n",
    "        if training(P, N, n_max):\n",
    "            count += 1\n",
    "\n",
    "    fraction = count / n_D\n",
    "    print(\"Computed success fraction:\", fraction)\n",
    "    return fraction"
   ]
  },
  {
   "cell_type": "code",
   "execution_count": 11,
   "metadata": {},
   "outputs": [
    {
     "name": "stdout",
     "output_type": "stream",
     "text": [
      "Repeating the training for N=300 P=450 a=1.5\n",
      "Computed success fraction: 0.82\n",
      "Repeating the training for N=300 P=480 a=1.6\n",
      "Computed success fraction: 0.38\n",
      "Repeating the training for N=300 P=510 a=1.7000000000000002\n",
      "Computed success fraction: 0.04\n",
      "Repeating the training for N=300 P=540 a=1.8000000000000003\n",
      "Computed success fraction: 0.0\n",
      "Repeating the training for N=300 P=570 a=1.9000000000000004\n",
      "Computed success fraction: 0.0\n",
      "Repeating the training for N=300 P=600 a=2.0000000000000004\n",
      "Computed success fraction: 0.0\n",
      "Repeating the training for N=300 P=630 a=2.1000000000000005\n",
      "Computed success fraction: 0.0\n",
      "Repeating the training for N=300 P=660 a=2.2000000000000006\n",
      "Computed success fraction: 0.0\n",
      "Repeating the training for N=300 P=690 a=2.3000000000000007\n",
      "Computed success fraction: 0.0\n",
      "Repeating the training for N=300 P=720 a=2.400000000000001\n",
      "Computed success fraction: 0.0\n",
      "Repeating the training for N=300 P=750 a=2.500000000000001\n",
      "Computed success fraction: 0.0\n"
     ]
    },
    {
     "data": {
      "image/png": "[encoded data removed]",
      "text/plain": [
       "<Figure size 432x288 with 1 Axes>"
      ]
     },
     "metadata": {
      "needs_background": "light"
     },
     "output_type": "display_data"
    }
   ],
   "source": [
    "a_values = [a for a in np.arange(1.5, 2.6, 0.1)]\n",
    "fractions = [repeat(a) for a in a_values]\n",
    "\n",
    "plt.plot(a_values, fractions)\n",
    "plt.xlabel(r'$\\alpha = P/N$')\n",
    "plt.ylabel(r'$Q_{l.s.}$')\n",
    "plt.title(\"Fractions of linearly separable dichotomies\")\n",
    "plt.show()"
   ]
  },
  {
   "cell_type": "code",
   "execution_count": 38,
   "metadata": {},
   "outputs": [],
   "source": [
    "# c value can be changed to obtain diffrent results and graphs\n",
    "\n",
    "def training(P, N, n_max):\n",
    "    weight_vector = np.zeros(N)\n",
    "    vectors, labels = generate_data(P, N)\n",
    "    epoch = 1\n",
    "    c = 10\n",
    "\n",
    "    while epoch <= n_max:\n",
    "        weight_changed = False\n",
    "        \n",
    "        for i in range(0, P):\n",
    "            data_point = vectors[i]\n",
    "            label = labels[i]\n",
    "            ev_t = np.dot(weight_vector, data_point) * label\n",
    "            if ev_t < c:\n",
    "                weight_changed = True\n",
    "                weight_vector = weight_vector + (1/N * data_point * label)\n",
    "\n",
    "        if not weight_changed:\n",
    "            return True\n",
    "\n",
    "        epoch += 1\n",
    "\n",
    "    return False"
   ]
  },
  {
   "cell_type": "code",
   "execution_count": 39,
   "metadata": {},
   "outputs": [],
   "source": [
    "def repeat(a, N=20, n_D=50, n_max=100):\n",
    "    P = int(a * N)\n",
    "    print (\"Repeating the training for N={} P={} a={}\".format(N, P, a))\n",
    "    count = 0\n",
    "    \n",
    "    for i in range(0, n_D):\n",
    "        if training(P, N, n_max):\n",
    "            count += 1\n",
    "\n",
    "    fraction = count / n_D\n",
    "    print(\"Computed success fraction:\", fraction)\n",
    "    return fraction"
   ]
  },
  {
   "cell_type": "code",
   "execution_count": 40,
   "metadata": {},
   "outputs": [
    {
     "name": "stdout",
     "output_type": "stream",
     "text": [
      "Repeating the training for N=20 P=15 a=0.75\n",
      "Computed success fraction: 0.76\n",
      "Repeating the training for N=20 P=20 a=1.0\n",
      "Computed success fraction: 0.3\n",
      "Repeating the training for N=20 P=25 a=1.25\n",
      "Computed success fraction: 0.06\n",
      "Repeating the training for N=20 P=30 a=1.5\n",
      "Computed success fraction: 0.02\n",
      "Repeating the training for N=20 P=35 a=1.75\n",
      "Computed success fraction: 0.0\n",
      "Repeating the training for N=20 P=40 a=2.0\n",
      "Computed success fraction: 0.0\n",
      "Repeating the training for N=20 P=45 a=2.25\n",
      "Computed success fraction: 0.0\n",
      "Repeating the training for N=20 P=50 a=2.5\n",
      "Computed success fraction: 0.0\n",
      "Repeating the training for N=20 P=55 a=2.75\n",
      "Computed success fraction: 0.0\n",
      "Repeating the training for N=20 P=60 a=3.0\n",
      "Computed success fraction: 0.0\n"
     ]
    },
    {
     "data": {
      "image/png": "[encoded data removed]",
      "text/plain": [
       "<Figure size 432x288 with 1 Axes>"
      ]
     },
     "metadata": {
      "needs_background": "light"
     },
     "output_type": "display_data"
    }
   ],
   "source": [
    "a_values = [a for a in np.arange(0.75, 3.25, 0.25)]\n",
    "fractions = [repeat(a) for a in a_values]\n",
    "\n",
    "plt.plot(a_values, fractions)\n",
    "plt.xlabel(r'$\\alpha = P/N$')\n",
    "plt.ylabel(r'$Q_{l.s.}$')\n",
    "plt.title(\"Fractions of linearly separable dichotomies\")\n",
    "plt.show()"
   ]
  }
 ],
 "metadata": {
  "kernelspec": {
   "display_name": "Python 3",
   "language": "python",
   "name": "python3"
  },
  "language_info": {
   "codemirror_mode": {
    "name": "ipython",
    "version": 3
   },
   "file_extension": ".py",
   "mimetype": "text/x-python",
   "name": "python",
   "nbconvert_exporter": "python",
   "pygments_lexer": "ipython3",
   "version": "3.9.1"
  }
 },
 "nbformat": 4,
 "nbformat_minor": 4
}
